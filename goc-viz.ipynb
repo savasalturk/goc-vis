{
 "cells": [
  {
   "attachments": {},
   "cell_type": "markdown",
   "metadata": {},
   "source": [
    "#  Göç Verileri"
   ]
  },
  {
   "cell_type": "code",
   "execution_count": 1,
   "metadata": {},
   "outputs": [],
   "source": [
    "import pandas as pd\n",
    "import bar_chart_race as bcr\n",
    "import warnings\n",
    "warnings.filterwarnings(\"ignore\")"
   ]
  },
  {
   "cell_type": "code",
   "execution_count": 2,
   "metadata": {},
   "outputs": [],
   "source": [
    "df = pd.read_excel(\"data/goc_veri.xls\")\n",
    "df[\"il\"] = df[\"il\"].str.split(\"-\",expand=True)[0]"
   ]
  },
  {
   "cell_type": "code",
   "execution_count": 3,
   "metadata": {},
   "outputs": [
    {
     "data": {
      "text/plain": [
       "Index(['yıl', 'il', 'Bölgelerin Aldığı Göç Bilgileri',\n",
       "       'Bölgelerin Net Göç Bilgileri', 'Bölgelerin Verdiği Göç Bilgileri'],\n",
       "      dtype='object')"
      ]
     },
     "execution_count": 3,
     "metadata": {},
     "output_type": "execute_result"
    }
   ],
   "source": [
    "df.columns"
   ]
  },
  {
   "cell_type": "code",
   "execution_count": 4,
   "metadata": {},
   "outputs": [
    {
     "name": "stdout",
     "output_type": "stream",
     "text": [
      "<class 'pandas.core.frame.DataFrame'>\n",
      "RangeIndex: 1134 entries, 0 to 1133\n",
      "Data columns (total 5 columns):\n",
      " #   Column                            Non-Null Count  Dtype \n",
      "---  ------                            --------------  ----- \n",
      " 0   yıl                               1134 non-null   int64 \n",
      " 1   il                                1134 non-null   object\n",
      " 2   Bölgelerin Aldığı Göç Bilgileri   1134 non-null   int64 \n",
      " 3   Bölgelerin Net Göç Bilgileri      1134 non-null   int64 \n",
      " 4   Bölgelerin Verdiği Göç Bilgileri  1134 non-null   int64 \n",
      "dtypes: int64(4), object(1)\n",
      "memory usage: 44.4+ KB\n"
     ]
    }
   ],
   "source": [
    "df.info()"
   ]
  },
  {
   "cell_type": "code",
   "execution_count": 5,
   "metadata": {},
   "outputs": [
    {
     "data": {
      "text/html": [
       "<div>\n",
       "<style scoped>\n",
       "    .dataframe tbody tr th:only-of-type {\n",
       "        vertical-align: middle;\n",
       "    }\n",
       "\n",
       "    .dataframe tbody tr th {\n",
       "        vertical-align: top;\n",
       "    }\n",
       "\n",
       "    .dataframe thead th {\n",
       "        text-align: right;\n",
       "    }\n",
       "</style>\n",
       "<table border=\"1\" class=\"dataframe\">\n",
       "  <thead>\n",
       "    <tr style=\"text-align: right;\">\n",
       "      <th></th>\n",
       "      <th>yıl</th>\n",
       "      <th>il</th>\n",
       "      <th>Bölgelerin Aldığı Göç Bilgileri</th>\n",
       "      <th>Bölgelerin Net Göç Bilgileri</th>\n",
       "      <th>Bölgelerin Verdiği Göç Bilgileri</th>\n",
       "    </tr>\n",
       "  </thead>\n",
       "  <tbody>\n",
       "    <tr>\n",
       "      <th>0</th>\n",
       "      <td>2008</td>\n",
       "      <td>Adana</td>\n",
       "      <td>45493</td>\n",
       "      <td>-12823</td>\n",
       "      <td>58316</td>\n",
       "    </tr>\n",
       "    <tr>\n",
       "      <th>1</th>\n",
       "      <td>2008</td>\n",
       "      <td>Adıyaman</td>\n",
       "      <td>12155</td>\n",
       "      <td>-8816</td>\n",
       "      <td>20971</td>\n",
       "    </tr>\n",
       "    <tr>\n",
       "      <th>2</th>\n",
       "      <td>2008</td>\n",
       "      <td>Afyonkarahisar</td>\n",
       "      <td>18270</td>\n",
       "      <td>-6591</td>\n",
       "      <td>24861</td>\n",
       "    </tr>\n",
       "    <tr>\n",
       "      <th>3</th>\n",
       "      <td>2008</td>\n",
       "      <td>Ağrı</td>\n",
       "      <td>12195</td>\n",
       "      <td>-15255</td>\n",
       "      <td>27450</td>\n",
       "    </tr>\n",
       "    <tr>\n",
       "      <th>4</th>\n",
       "      <td>2008</td>\n",
       "      <td>Aksaray</td>\n",
       "      <td>11146</td>\n",
       "      <td>-1450</td>\n",
       "      <td>12596</td>\n",
       "    </tr>\n",
       "    <tr>\n",
       "      <th>...</th>\n",
       "      <td>...</td>\n",
       "      <td>...</td>\n",
       "      <td>...</td>\n",
       "      <td>...</td>\n",
       "      <td>...</td>\n",
       "    </tr>\n",
       "    <tr>\n",
       "      <th>1129</th>\n",
       "      <td>2021</td>\n",
       "      <td>Uşak</td>\n",
       "      <td>13705</td>\n",
       "      <td>1474</td>\n",
       "      <td>12231</td>\n",
       "    </tr>\n",
       "    <tr>\n",
       "      <th>1130</th>\n",
       "      <td>2021</td>\n",
       "      <td>Van</td>\n",
       "      <td>30318</td>\n",
       "      <td>-27867</td>\n",
       "      <td>58185</td>\n",
       "    </tr>\n",
       "    <tr>\n",
       "      <th>1131</th>\n",
       "      <td>2021</td>\n",
       "      <td>Yalova</td>\n",
       "      <td>16965</td>\n",
       "      <td>5401</td>\n",
       "      <td>11564</td>\n",
       "    </tr>\n",
       "    <tr>\n",
       "      <th>1132</th>\n",
       "      <td>2021</td>\n",
       "      <td>Yozgat</td>\n",
       "      <td>18320</td>\n",
       "      <td>-4608</td>\n",
       "      <td>22928</td>\n",
       "    </tr>\n",
       "    <tr>\n",
       "      <th>1133</th>\n",
       "      <td>2021</td>\n",
       "      <td>Zonguldak</td>\n",
       "      <td>20883</td>\n",
       "      <td>-1108</td>\n",
       "      <td>21991</td>\n",
       "    </tr>\n",
       "  </tbody>\n",
       "</table>\n",
       "<p>1134 rows × 5 columns</p>\n",
       "</div>"
      ],
      "text/plain": [
       "       yıl              il  Bölgelerin Aldığı Göç Bilgileri  \\\n",
       "0     2008           Adana                            45493   \n",
       "1     2008        Adıyaman                            12155   \n",
       "2     2008  Afyonkarahisar                            18270   \n",
       "3     2008            Ağrı                            12195   \n",
       "4     2008         Aksaray                            11146   \n",
       "...    ...             ...                              ...   \n",
       "1129  2021            Uşak                            13705   \n",
       "1130  2021             Van                            30318   \n",
       "1131  2021          Yalova                            16965   \n",
       "1132  2021          Yozgat                            18320   \n",
       "1133  2021       Zonguldak                            20883   \n",
       "\n",
       "      Bölgelerin Net Göç Bilgileri  Bölgelerin Verdiği Göç Bilgileri  \n",
       "0                           -12823                             58316  \n",
       "1                            -8816                             20971  \n",
       "2                            -6591                             24861  \n",
       "3                           -15255                             27450  \n",
       "4                            -1450                             12596  \n",
       "...                            ...                               ...  \n",
       "1129                          1474                             12231  \n",
       "1130                        -27867                             58185  \n",
       "1131                          5401                             11564  \n",
       "1132                         -4608                             22928  \n",
       "1133                         -1108                             21991  \n",
       "\n",
       "[1134 rows x 5 columns]"
      ]
     },
     "execution_count": 5,
     "metadata": {},
     "output_type": "execute_result"
    }
   ],
   "source": [
    "df"
   ]
  },
  {
   "cell_type": "code",
   "execution_count": 6,
   "metadata": {},
   "outputs": [
    {
     "data": {
      "text/plain": [
       "array(['Adana', 'Adıyaman', 'Afyonkarahisar', 'Ağrı', 'Aksaray', 'Amasya',\n",
       "       'Ankara', 'Antalya', 'Ardahan', 'Artvin', 'Aydın', 'Balıkesir',\n",
       "       'Bartın', 'Batman', 'Bayburt', 'Bilecik', 'Bingöl', 'Bitlis',\n",
       "       'Bolu', 'Burdur', 'Bursa', 'Çanakkale', 'Çankırı', 'Çorum',\n",
       "       'Denizli', 'Diyarbakır', 'Düzce', 'Edirne', 'Elazığ', 'Erzincan',\n",
       "       'Erzurum', 'Eskişehir', 'Gaziantep', 'Giresun', 'Gümüşhane',\n",
       "       'Hakkari', 'Hatay', 'Iğdır', 'Isparta', 'İstanbul', 'İzmir',\n",
       "       'Kahramanmaraş', 'Karabük', 'Karaman', 'Kars', 'Kastamonu',\n",
       "       'Kayseri', 'Kilis', 'Kırıkkale', 'Kırklareli', 'Kırşehir',\n",
       "       'Kocaeli', 'Konya', 'Kütahya', 'Malatya', 'Manisa', 'Mardin',\n",
       "       'Mersin', 'Muğla', 'Muş', 'Nevşehir', 'Niğde', 'Ordu', 'Osmaniye',\n",
       "       'Rize', 'Sakarya', 'Samsun', 'Şanlıurfa', 'Siirt', 'Sinop',\n",
       "       'Şırnak', 'Sivas', 'Tekirdağ', 'Tokat', 'Trabzon', 'Tunceli',\n",
       "       'Uşak', 'Van', 'Yalova', 'Yozgat', 'Zonguldak'], dtype=object)"
      ]
     },
     "execution_count": 6,
     "metadata": {},
     "output_type": "execute_result"
    }
   ],
   "source": [
    "df[\"il\"].unique()"
   ]
  },
  {
   "cell_type": "markdown",
   "metadata": {},
   "source": [
    "# Pivot Table"
   ]
  },
  {
   "cell_type": "code",
   "execution_count": 18,
   "metadata": {},
   "outputs": [],
   "source": [
    "df_pivot_aldigigoc = df.pivot_table(index=\"yıl\",columns=\"il\",values=\"Bölgelerin Aldığı Göç Bilgileri\") \n",
    "df_pivot_verdigigoc = df.pivot_table(index=\"yıl\",columns=\"il\",values=\"Bölgelerin Verdiği Göç Bilgileri\") \n",
    "df_pivot_netgoc = df.pivot_table(index=\"yıl\",columns=\"il\",values=\"Bölgelerin Net Göç Bilgileri\") \n"
   ]
  },
  {
   "cell_type": "markdown",
   "metadata": {},
   "source": [
    "# GIF Export"
   ]
  },
  {
   "cell_type": "code",
   "execution_count": 62,
   "metadata": {},
   "outputs": [
    {
     "name": "stderr",
     "output_type": "stream",
     "text": [
      "MovieWriter imagemagick unavailable; using Pillow instead.\n",
      "MovieWriter imagemagick unavailable; using Pillow instead.\n",
      "MovieWriter imagemagick unavailable; using Pillow instead.\n"
     ]
    }
   ],
   "source": [
    "red = [\"#f6546a\" for i in range(15)]\n",
    "blue = [\"#31c2fc\" for i in range(15)]\n",
    "green = [\"#b4eeb4\" for i in range(15)]\n",
    "title = \"İllerin Aldığı Göç Bilgileri: 2008-2021\"\n",
    "bcr.bar_chart_race(df_pivot_aldigigoc,filename=\"vis/vis-AldigiGoc.gif\",n_bars=15,period_length =1000,period_fmt=\"{x:.0f}\",figsize=(12,8),dpi=300,title=title,cmap=red)\n",
    "title = \"İllerin Verdiği Göç Bilgileri: 2008-2021\"\n",
    "bcr.bar_chart_race(df_pivot_verdigigoc,filename=\"vis/vis-VerdigiGoc.gif\",n_bars=15,period_length =1000,period_fmt=\"{x:.0f}\",figsize=(12,8),dpi=300,title=title,cmap=blue)\n",
    "title = \"İllerin Net Göç Bilgileri: 2008-2021\"\n",
    "bcr.bar_chart_race(df_pivot_netgoc,filename=\"vis/vis-NetGoc.gif\",n_bars=15,period_length =1000,period_fmt=\"{x:.0f}\",figsize=(12,8),dpi=300,title=title,cmap=green)"
   ]
  },
  {
   "cell_type": "markdown",
   "metadata": {},
   "source": [
    "# MP4 Export"
   ]
  },
  {
   "cell_type": "code",
   "execution_count": 61,
   "metadata": {},
   "outputs": [],
   "source": [
    "red = [\"#f6546a\" for i in range(15)]\n",
    "blue = [\"#31c2fc\" for i in range(15)]\n",
    "green = [\"#b4eeb4\" for i in range(15)]\n",
    "title = \"İllerin Aldığı Göç Bilgileri: 2008-2021\"\n",
    "bcr.bar_chart_race(df_pivot_aldigigoc,filename=\"vis/vis-AldigiGoc.mp4\",n_bars=15,period_length =1000,period_fmt=\"{x:.0f}\",figsize=(12,8),dpi=300,title=title,cmap=red)\n",
    "title = \"İllerin Verdiği Göç Bilgileri: 2008-2021\"\n",
    "bcr.bar_chart_race(df_pivot_verdigigoc,filename=\"vis/vis-VerdigiGoc.mp4\",n_bars=15,period_length =1000,period_fmt=\"{x:.0f}\",figsize=(12,8),dpi=300,title=title,cmap=blue)\n",
    "title = \"İllerin Net Göç Bilgileri: 2008-2021\"\n",
    "bcr.bar_chart_race(df_pivot_netgoc,filename=\"vis/vis-NetGoc.mp4\",n_bars=15,period_length =1000,period_fmt=\"{x:.0f}\",figsize=(12,8),dpi=300,title=title,cmap=green)"
   ]
  },
  {
   "cell_type": "markdown",
   "metadata": {},
   "source": [
    "# Deprem illeri"
   ]
  },
  {
   "cell_type": "code",
   "execution_count": 8,
   "metadata": {},
   "outputs": [
    {
     "data": {
      "text/plain": [
       "array(['Adana', 'Adıyaman', 'Afyonkarahisar', 'Ağrı', 'Aksaray', 'Amasya',\n",
       "       'Ankara', 'Antalya', 'Ardahan', 'Artvin', 'Aydın', 'Balıkesir',\n",
       "       'Bartın', 'Batman', 'Bayburt', 'Bilecik', 'Bingöl', 'Bitlis',\n",
       "       'Bolu', 'Burdur', 'Bursa', 'Çanakkale', 'Çankırı', 'Çorum',\n",
       "       'Denizli', 'Diyarbakır', 'Düzce', 'Edirne', 'Elazığ', 'Erzincan',\n",
       "       'Erzurum', 'Eskişehir', 'Gaziantep', 'Giresun', 'Gümüşhane',\n",
       "       'Hakkari', 'Hatay', 'Iğdır', 'Isparta', 'İstanbul', 'İzmir',\n",
       "       'Kahramanmaraş', 'Karabük', 'Karaman', 'Kars', 'Kastamonu',\n",
       "       'Kayseri', 'Kilis', 'Kırıkkale', 'Kırklareli', 'Kırşehir',\n",
       "       'Kocaeli', 'Konya', 'Kütahya', 'Malatya', 'Manisa', 'Mardin',\n",
       "       'Mersin', 'Muğla', 'Muş', 'Nevşehir', 'Niğde', 'Ordu', 'Osmaniye',\n",
       "       'Rize', 'Sakarya', 'Samsun', 'Şanlıurfa', 'Siirt', 'Sinop',\n",
       "       'Şırnak', 'Sivas', 'Tekirdağ', 'Tokat', 'Trabzon', 'Tunceli',\n",
       "       'Uşak', 'Van', 'Yalova', 'Yozgat', 'Zonguldak'], dtype=object)"
      ]
     },
     "execution_count": 8,
     "metadata": {},
     "output_type": "execute_result"
    }
   ],
   "source": [
    "df[\"il\"].unique()"
   ]
  },
  {
   "cell_type": "code",
   "execution_count": 9,
   "metadata": {},
   "outputs": [],
   "source": [
    "df = df[df[\"il\"].isin([\"Adıyaman\",\"Hatay\",\"Adana\",\"Kahramanmaraş\",\"Şanlıurfa\",\"Diyarbakır\",\"Malatya\",\"Osmaniye\",\"Gaziantep\",\"Kilis\"])]\n",
    "df_pivot_aldigigoc = df.pivot_table(index=\"yıl\",columns=\"il\",values=\"Bölgelerin Aldığı Göç Bilgileri\") \n",
    "df_pivot_verdigigoc = df.pivot_table(index=\"yıl\",columns=\"il\",values=\"Bölgelerin Verdiği Göç Bilgileri\") \n",
    "df_pivot_netgoc = df.pivot_table(index=\"yıl\",columns=\"il\",values=\"Bölgelerin Net Göç Bilgileri\") "
   ]
  },
  {
   "cell_type": "code",
   "execution_count": 11,
   "metadata": {},
   "outputs": [
    {
     "name": "stderr",
     "output_type": "stream",
     "text": [
      "MovieWriter imagemagick unavailable; using Pillow instead.\n",
      "MovieWriter imagemagick unavailable; using Pillow instead.\n",
      "MovieWriter imagemagick unavailable; using Pillow instead.\n"
     ]
    }
   ],
   "source": [
    "red = [\"#f6546a\" for i in range(15)]\n",
    "blue = [\"#31c2fc\" for i in range(15)]\n",
    "green = [\"#b4eeb4\" for i in range(15)]\n",
    "title = \"İllerin Aldığı Göç Bilgileri: 2008-2021\"\n",
    "bcr.bar_chart_race(df_pivot_aldigigoc,filename=\"vis/vis-Deprem-AldigiGoc.gif\",n_bars=10,period_length =1000,period_fmt=\"{x:.0f}\",figsize=(12,8),dpi=300,title=title,cmap=red)\n",
    "title = \"İllerin Verdiği Göç Bilgileri: 2008-2021\"\n",
    "bcr.bar_chart_race(df_pivot_verdigigoc,filename=\"vis/vis-Deprem-VerdigiGoc.gif\",n_bars=10,period_length =1000,period_fmt=\"{x:.0f}\",figsize=(12,8),dpi=300,title=title,cmap=blue)\n",
    "title = \"İllerin Net Göç Bilgileri: 2008-2021\"\n",
    "bcr.bar_chart_race(df_pivot_netgoc,filename=\"vis/vis-Deprem-NetGoc.gif\",n_bars=10,period_length =1000,period_fmt=\"{x:.0f}\",figsize=(12,8),dpi=300,title=title,cmap=green)"
   ]
  }
 ],
 "metadata": {
  "kernelspec": {
   "display_name": "Python 3",
   "language": "python",
   "name": "python3"
  },
  "language_info": {
   "codemirror_mode": {
    "name": "ipython",
    "version": 3
   },
   "file_extension": ".py",
   "mimetype": "text/x-python",
   "name": "python",
   "nbconvert_exporter": "python",
   "pygments_lexer": "ipython3",
   "version": "3.10.0"
  },
  "orig_nbformat": 4,
  "vscode": {
   "interpreter": {
    "hash": "b465882117c055158a3371ff64582238dbc6dae193fc00d965eaec203ec60cee"
   }
  }
 },
 "nbformat": 4,
 "nbformat_minor": 2
}
